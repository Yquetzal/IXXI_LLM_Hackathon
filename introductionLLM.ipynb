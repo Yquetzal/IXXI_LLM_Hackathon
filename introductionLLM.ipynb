{
 "cells": [
  {
   "cell_type": "markdown",
   "id": "6f69d431",
   "metadata": {},
   "source": [
    "# Introduction\n",
    "La première étape consiste à importer des librairies nécessaires. En particulier, nous allons importer la librairie `ollama`, qui permet d'interagir avec le LLM."
   ]
  },
  {
   "cell_type": "code",
   "execution_count": 1,
   "id": "50783a2d",
   "metadata": {},
   "outputs": [],
   "source": [
    "from ollama import Client\n",
    "\n",
    "#ces autres librairies sont utilisées pour la visualisation et le traitement des données\n",
    "import pandas as pd\n",
    "import json\n",
    "import sklearn\n",
    "from tqdm import tqdm\n",
    "import matplotlib.pyplot as plt\n",
    "import seaborn as sns"
   ]
  },
  {
   "cell_type": "markdown",
   "id": "b3de87ed",
   "metadata": {},
   "source": [
    "### Fil rouge: analyse de publications scientifiques\n",
    "Afin d'explorer les différentes possibilitées d'interaction avec les LLMs, nous allons prendre un fil rouge: l'analyse de publications scientifiques d'un laboratoire. L'objectif est d'arriver a automatiquement dégager des grands thèmes dans les travaux du laboratoire, par exemple pour redéfinir des équipes ou des poles, ou pour mettre en avant les changements au cours du temps.\n",
    "\n",
    "\n",
    "Pour ce faire, nous allons utiliser une petite librairie python permettant de récupérer des données depuis la base de données HAL.\n",
    "Nous téléchargons la bibliothèquee, puis importons les fonctions nécessaires."
   ]
  },
  {
   "cell_type": "code",
   "execution_count": 10,
   "id": "ba61fa69",
   "metadata": {},
   "outputs": [
    {
     "data": {
      "text/plain": [
       "('HALfunctions.py', <http.client.HTTPMessage at 0x7f9db1cb1e80>)"
      ]
     },
     "execution_count": 10,
     "metadata": {},
     "output_type": "execute_result"
    }
   ],
   "source": [
    "#télécharge le code pour interroger HAL\n",
    "#!wget https://raw.githubusercontent.com/Yquetzal/Teaching_notebooks/main/Networks/HALfunctions.py (ne marche pas sur certaines configurations)\n",
    "import urllib.request\n",
    "\n",
    "url  = \"https://raw.githubusercontent.com/Yquetzal/Teaching_notebooks/main/Networks/HALfunctions.py\"\n",
    "path = \"HALfunctions.py\"          # where to save\n",
    "\n",
    "urllib.request.urlretrieve(url, path)\n"
   ]
  },
  {
   "cell_type": "code",
   "execution_count": 5,
   "id": "c82b05f6",
   "metadata": {},
   "outputs": [],
   "source": [
    "# Importe une fonction pour interroger HAL, `get_all_elements`\n",
    "from HALfunctions import get_all_elements"
   ]
  },
  {
   "cell_type": "markdown",
   "id": "3a3a3e81",
   "metadata": {},
   "source": [
    "### Requete à l'API HAL\n",
    "Sans rentrer dans les détails, il est possible d'interroger l'API HAL en renseignant des critères, tels que des mots clefs, des noms d'auteurs, ou des institutions. Ici, a titre d'exemple, on va chercher toutes les publications par les membres du laboratoire LIRIS (`structId_i:2003`) entre 2023 et 2024. On récupère les résultats sous la forme d'un fichier csv, qui contient des colonnes utiles. En particulier, ici nous allons utiliser le titre (`title_s`)  et le résumé (`abstract_s`)."
   ]
  },
  {
   "cell_type": "code",
   "execution_count": 5,
   "id": "c85b0463",
   "metadata": {},
   "outputs": [
    {
     "ename": "NameError",
     "evalue": "name 'get_all_elements' is not defined",
     "output_type": "error",
     "traceback": [
      "\u001b[0;31m---------------------------------------------------------------------------\u001b[0m",
      "\u001b[0;31mNameError\u001b[0m                                 Traceback (most recent call last)",
      "\u001b[0;32m/var/folders/j8/987m6x9x2dd5j9rz_30l06840000gn/T/ipykernel_50721/3447257047.py\u001b[0m in \u001b[0;36m<module>\u001b[0;34m\u001b[0m\n\u001b[1;32m      5\u001b[0m \u001b[0;34m\u001b[0m\u001b[0m\n\u001b[1;32m      6\u001b[0m \u001b[0mrequete\u001b[0m \u001b[0;34m=\u001b[0m \u001b[0;34m\"http://api.archives-ouvertes.fr/search/\"\u001b[0m\u001b[0;34m+\u001b[0m\u001b[0mdomaine\u001b[0m\u001b[0;34m+\u001b[0m\u001b[0;34m\"?q=\"\u001b[0m\u001b[0;34m+\u001b[0m\u001b[0mq\u001b[0m\u001b[0;34m+\u001b[0m\u001b[0;34m\"&fq=publicationDate_s:\"\u001b[0m\u001b[0;34m+\u001b[0m\u001b[0mdates\u001b[0m\u001b[0;34m+\u001b[0m\u001b[0;34m\"&fl=\"\u001b[0m\u001b[0;34m+\u001b[0m\u001b[0mcolonnes_voulues\u001b[0m\u001b[0;34m\u001b[0m\u001b[0;34m\u001b[0m\u001b[0m\n\u001b[0;32m----> 7\u001b[0;31m \u001b[0mLIRISpublications\u001b[0m \u001b[0;34m=\u001b[0m \u001b[0mget_all_elements\u001b[0m\u001b[0;34m(\u001b[0m\u001b[0mrequete\u001b[0m\u001b[0;34m)\u001b[0m\u001b[0;34m\u001b[0m\u001b[0;34m\u001b[0m\u001b[0m\n\u001b[0m\u001b[1;32m      8\u001b[0m \u001b[0;31m# Affiche les 10 premières publications\u001b[0m\u001b[0;34m\u001b[0m\u001b[0;34m\u001b[0m\u001b[0;34m\u001b[0m\u001b[0m\n\u001b[1;32m      9\u001b[0m \u001b[0mLIRISpublications\u001b[0m\u001b[0;34m[\u001b[0m\u001b[0;34m:\u001b[0m\u001b[0;36m3\u001b[0m\u001b[0;34m]\u001b[0m\u001b[0;34m\u001b[0m\u001b[0;34m\u001b[0m\u001b[0m\n",
      "\u001b[0;31mNameError\u001b[0m: name 'get_all_elements' is not defined"
     ]
    }
   ],
   "source": [
    "q=\"structId_i:2003\"\n",
    "domaine=\"\"\n",
    "dates=\"[2025 TO 2025]\"\n",
    "colonnes_voulues=\"title_s,abstract_s,authFullName_s,level1_domain_s,keyword_s,instStructCountry_s\"\n",
    "\n",
    "requete = \"http://api.archives-ouvertes.fr/search/\"+domaine+\"?q=\"+q+\"&fq=publicationDate_s:\"+dates+\"&fl=\"+colonnes_voulues\n",
    "LIRISpublications = get_all_elements(requete)\n",
    "# Affiche les 10 premières publications\n",
    "LIRISpublications[:3]"
   ]
  },
  {
   "cell_type": "markdown",
   "id": "bc88c303",
   "metadata": {},
   "source": [
    "### Fil rouge: analyse\n",
    "On observe que les données de HAL sont mal remplies: les mots-clefs, les domaines scientifiques sont souvent manquant. \n",
    "Pour arriver a un bon résultat, il est donc nécessaire de traiter directement le texte: titre et/ou résumé. Cependant, se baser uniquement sur les mots communs comme mots-clefs fonctionnerait mal (ex.: `LLM` différent de `ChatGPT`, mais globalement des synonymes )\n",
    "\n",
    "Nous allons donc chercher à utiliser les LLMs pour identifier des articles dont les contenus seraient similaires, mais qui n'utiliseraient pas les mêmes mots"
   ]
  },
  {
   "cell_type": "markdown",
   "id": "4925c361",
   "metadata": {},
   "source": [
    "# LLM: initialisation\n",
    "Dans cette première partie, nous allons nous connecter à un service de LLM. Pour se connecter, il faut renseigner une URL où se trouve le service (API), et une clef, jouant un rôle similaire à un mot de passe (API KEY). \n",
    "On peut noter que l'URL peut être locale à la machine, si le LLM est installé sur la même machine, un serveur privé, par exemple insitutionnel, ou un service payant type OpenAI.\n",
    "\n",
    "Pour que ce code fonctionne, vous devez renseigner une URL et un API_KEY valides."
   ]
  },
  {
   "cell_type": "code",
   "execution_count": 69,
   "id": "b91f35ed",
   "metadata": {},
   "outputs": [],
   "source": [
    "# YOUR_API_KEY=\"...\"\n",
    "# client = Client(\n",
    "  \n",
    "#   host='https://ollama-ui.pagoda.liris.cnrs.fr/ollama',\n",
    "#   headers={'Authorization': f'Bearer {YOUR_API_KEY}'}\n",
    "# )\n"
   ]
  },
  {
   "cell_type": "code",
   "execution_count": 7,
   "id": "714eccc0",
   "metadata": {},
   "outputs": [],
   "source": [
    "client = Client(  \n",
    "  host='http://localhost:11434',\n",
    ") "
   ]
  },
  {
   "cell_type": "markdown",
   "id": "b8a18f07",
   "metadata": {},
   "source": [
    "# Choix du modèle\n",
    "Pour un même service de LLM, il est souvent possible de choisir parmi plusieurs modèles, plus ou moins puissants.\n",
    "Si certains modèles sont plus puissants (et donc plus demandeurs en temps de calcul), il existe d'autres spécificités:\n",
    "* Certains modèles sont *multimodaux*, ce qui veut dire qu'ils comprennent non seulement le texte, mais aussi les images, voires d'autres sources telles que des PDF, des vidéos, des sons...\n",
    "* Certains modèles sont des modèles *avec raisonnement*. Ils ne répondent pas d'un coup, mais ont un processus d'interrogation et d'évaluation de leurs propres réponses afin de fournir des résultats plus pertinents, mais aussi nettement plus couteux\n",
    "* Certains modèles spécifiques sont des modèles *d'embedding*, ou de plongement. Ils ne fournissent pas des réponses textuelles, mais sous forme mathématique (des vecteurs, c'est à dire des suites de nombres). Nous verrons leur usage ultérieurement.\n",
    "\n",
    "Le nom des modèles disponibles, avec quelques informations, est disponible ci-dessous"
   ]
  },
  {
   "cell_type": "markdown",
   "id": "73b3c71f",
   "metadata": {},
   "source": [
    "| NAME                  | SIZE   | Type de modèle   |\n",
    "|-----------------------|--------|------------------|\n",
    "| bge-m3:latest         | 1.2 GB | Embedding        |\n",
    "| llama4:latest         | 67 GB  | LLM (texte)      |\n",
    "| qwen2:7b              | 4.4 GB | LLM (texte)      |\n",
    "| mistral-large:latest  | 73 GB  | LLM (texte)      |\n",
    "| deepseek-r1:latest    | 4.7 GB | LLM (code + texte) |\n",
    "| llama3.3:latest       | 42 GB  | LLM (texte)      |"
   ]
  },
  {
   "cell_type": "markdown",
   "id": "2635dac6",
   "metadata": {},
   "source": [
    "# Préparation des données\n",
    "Afin de manipuler plus facilement les données, nous créons un seul texte pour chaque article en concaténant le titre, le résumé et les mots-clefs, lorsque disponibles.\n",
    "Nous mettons le résultat dans une liste python"
   ]
  },
  {
   "cell_type": "code",
   "execution_count": 72,
   "id": "0f765cc0",
   "metadata": {},
   "outputs": [],
   "source": [
    "LIRISpublications['keyword_s'] = LIRISpublications['keyword_s'].fillna(\"\")\n",
    "LIRISpublications['abstract_s'] = LIRISpublications['abstract_s'].fillna(\"\")\n",
    "\n",
    "all_to_summarize = []\n",
    "for index, publi in LIRISpublications.iterrows():\n",
    "    to_summarize = publi['title_s'] + \". \" + publi['abstract_s'] + \". \" + publi[\"keyword_s\"]\n",
    "    all_to_summarize.append(to_summarize)\n",
    "    "
   ]
  },
  {
   "cell_type": "code",
   "execution_count": 73,
   "id": "38095976",
   "metadata": {},
   "outputs": [
    {
     "name": "stdout",
     "output_type": "stream",
     "text": [
      "Nombre de publications à résumer : 27\n"
     ]
    },
    {
     "data": {
      "text/plain": [
       "['Review of driver behaviour modelling for highway on‐ramp merging. . ',\n",
       " \"London taxi drivers exploit neighbourhood boundaries for hierarchical route planning. Humans show an impressive ability to plan over complex situations and environments. A classic approach to explaining such planning has been tree-search algorithms which search through alternative state sequences for the most efficient path through states. However\\\\, this approach fails when the number of states is large due to the time to compute all possible sequences. Hierarchical route planning has been proposed as an alternative\\\\, offering a computationally efficient mechanism in which the representation of the environment is segregated into clusters. Current evidence for hierarchical planning comes from experimentally created environments which have clearly defined boundaries and far fewer states than the real-world. To test for real-world hierarchical planning we exploited the capacity of London licensed taxi drivers to use their memory to construct a street by street plan across London\\\\, UK (&gt;26\\\\,000 streets). The time to recall each successive street name was treated as the response time\\\\, with a rapid average of 1.8 s between each street. In support of hierarchical planning we find that the clustered structure of London's regions impacts the response times\\\\, with minimal impact of the distance across the street network (as would be predicted by tree-search). We also find that changing direction during the plan (e.g. turning left or right) is associated with delayed response times. Thus\\\\, our results provide real-world evidence for how humans structure planning over a very large number of states\\\\, and give a measure of human expertise in planning.. Spatial representation,Real-world evidence,Hierarchical representations,Spatial cognition,Wayfinding,Executive function\",\n",
       " 'A Multiagent Path Search Algorithm for Large-Scale Coalition Structure Generation\\\\, Accepted Paper. . Coalition structure generation problem']"
      ]
     },
     "execution_count": 73,
     "metadata": {},
     "output_type": "execute_result"
    }
   ],
   "source": [
    "#visualisation des 3 premières publications de la liste.\n",
    "print(\"Nombre de publications à résumer :\", len(all_to_summarize))\n",
    "all_to_summarize[:3]"
   ]
  },
  {
   "cell_type": "markdown",
   "id": "63c4065f",
   "metadata": {},
   "source": [
    "# Usage 1: poser une question\n",
    "Le premier type d'interrogation que l'on peut faire consiste à tout simplement poser une question en langage naturel, et recevoir une réponse, toujours en langage naturel. Il s'agit d'un usage similaire à celui auquel on a accès sur une interface de type ChatGPT. \n",
    "On peut noter qu'il ne s'agit pas d'un échange continu de type \"chat\". Chaque question posée est indépendante de la précédente. Dans les faits, lors d'un chat, la question i+1 consiste à poser la qestion i+1 concaténée à l'ensemble de l'historique de la dicussion jusqu'à i+1 (question i-1, réponse i-1, question i-2, réponse i-2, etc.). \n",
    "\n",
    "Ici, nous allons utiliser cette fonctionnalité pour produire un résumé court. Il s'agit d'une pratique courante dans le domaine, cela permet en quelque sorte de concentrer l'information, de manière à 1)réduire les demandes en temps de calcul, et 2)obtenir des résultats plus précis.\n",
    "\n",
    "Pour ce faire, nous rédigeons tout simplement un *prompt*, un message décrivant ce que nous souhaitons. Ce prompt doit être aussi précis que possible, tout en restant si possible concis. On spécifie bien au modèle que l'on ne souhaite pas avoir de \"décoration\" autour de la réponse, des message du type \"je vais proposer un résumé de 30 mots...\".\n",
    "\n",
    "En utilisant une boucle `for`, on demande un résumé pour chacun des articles dans notre base.\n",
    "\n",
    "A note qu'à ce stade, on n'effectue pas de vérification des réponses: il est possible que parfois le LLM fasse des réponse de beaucoup plus de 30 mots, ou que par `hallucination`, il réponde quelque chose du type \"je n'ai pas réussi à comprendre ce texte\", etc. Il serait possible d'ajouter des vérifications pour pallier ce problème.\n",
    "\n",
    "La notion de `temperature` est une notion très utile pour les LLMs. Elle permet de contrôler approximativement la *créativité*, *l'imagination*, le *degré de fantaisie* du modèle. Plus la valeur est élevée, plus la créativité est forte. En indiquant une température de zéro, le modèle deviens déterministe: si on repose la même question, on aura la même réponse exactement."
   ]
  },
  {
   "cell_type": "code",
   "execution_count": 74,
   "id": "8f79e280",
   "metadata": {},
   "outputs": [
    {
     "name": "stderr",
     "output_type": "stream",
     "text": [
      "Summarizing:   0%|          | 0/27 [00:00<?, ?it/s]"
     ]
    },
    {
     "name": "stderr",
     "output_type": "stream",
     "text": [
      "Summarizing: 100%|██████████| 27/27 [02:09<00:00,  4.80s/it]\n"
     ]
    }
   ],
   "source": [
    "all_summaries = []\n",
    "for text in tqdm(all_to_summarize, desc=\"Summarizing\"):\n",
    "    response = client.chat(\n",
    "        model=model,\n",
    "        options={'temperature': 0},\n",
    "        messages=[\n",
    "            {\n",
    "                'role': 'user',\n",
    "                'content': (\n",
    "                    \"summarize the following text in about 30 words. \"\n",
    "                    \"Focus on the general theme, general picture, not the details. \"\n",
    "                    \"The objective later will be to classify those texts in large scientific topics. \"\n",
    "                    \"Answer with only the summary of 30 words, nothing else. ONLY 30 words maximum, no explanation: \" + text\n",
    "                ),\n",
    "            },\n",
    "        ],\n",
    "    )\n",
    "    all_summaries.append(response[\"message\"]['content'])"
   ]
  },
  {
   "cell_type": "code",
   "execution_count": 75,
   "id": "90d29c0d",
   "metadata": {},
   "outputs": [
    {
     "data": {
      "text/plain": [
       "['This study examines how drivers merge onto highways, focusing on modeling their actions to improve understanding and potentially enhance traffic flow and safety.\\n\\n\\n\\n',\n",
       " 'Humans expertly plan routes in complex environments, like London, by structuring space hierarchically, not simply calculating distances—demonstrating real-world cognitive mapping skills.\\n\\n\\n\\n',\n",
       " 'This research presents a new algorithm for efficiently organizing groups (coalitions) of agents to navigate and solve complex, large-scale problems collaboratively.\\n\\n\\n\\n']"
      ]
     },
     "execution_count": 75,
     "metadata": {},
     "output_type": "execute_result"
    }
   ],
   "source": [
    "all_summaries[:3]"
   ]
  },
  {
   "cell_type": "code",
   "execution_count": 76,
   "id": "b76e17b6",
   "metadata": {},
   "outputs": [],
   "source": [
    "#add the summaries to the dataframe\n",
    "LIRISpublications['summary'] = all_summaries"
   ]
  },
  {
   "cell_type": "markdown",
   "id": "0d525026",
   "metadata": {},
   "source": [
    "# Utiliser un modèle d'embedding/plongement\n",
    "Une utilisation puissante des LLMs consiste à transformer le texte en un vecteur qui résume ce texte. En effet, un LLM est un algorithme qui manipule des représentations numériques du texte, et manipuler les embeddings consiste intuitivement a manipuler directement les valeurs sous-jacentes, plutôt que de les re-transformer en texte. Le principal usage des embeddings consiste à calculer des distances entre eux. \n",
    "\n",
    "Prenons un exemple concret, composé de 4 phrases, certaines ayant des mots similaires, mais des significations différentes, tandis que d'autres n'utilisent pas les mêmes mots, mais ont un sens proche. On vérifie que, lorsque l'on calcule la distance entre les vecteurs embedding de ces phrases, la distance correspond plutôt a une distance sémantique.\n"
   ]
  },
  {
   "cell_type": "code",
   "execution_count": 77,
   "id": "6ff9cf63",
   "metadata": {},
   "outputs": [],
   "source": [
    "#Choix du modèle d'embeddings\n",
    "model=\"bge-m3:latest\"\n",
    "\n",
    "sentences = [\n",
    "    \"The bank was flooded with water.\", # la rive a été inondée d'eau.\",\n",
    "    \"The bank on mainstreet is closed on sundays.\", # la banque est fermée le dimanche.\",\n",
    "    \"The bank on mainstreet is open on sundays.\", # la banque est ouverte le dimanche.\",\n",
    "    \"He passed away last night.\", # il est décédé la nuit dernière.\",\n",
    "    \"He died yesterday.\", # il est mort hier.\"\n",
    "    \"Il est mort hier.\" # phrase en français\n",
    "]\n",
    "# Compute embeddings using the Ollama client\n",
    "embeddings = client.embed(model=model,input=sentences)\n",
    "embeddings =embeddings[\"embeddings\"]\n"
   ]
  },
  {
   "cell_type": "code",
   "execution_count": 78,
   "id": "da85d3a0",
   "metadata": {},
   "outputs": [
    {
     "data": {
      "text/plain": [
       "Text(0.5, 1.0, 'Cosine Similarity Heatmap')"
      ]
     },
     "execution_count": 78,
     "metadata": {},
     "output_type": "execute_result"
    },
    {
     "data": {
      "image/png": "[encoded data removed]",
      "text/plain": [
       "<Figure size 720x576 with 2 Axes>"
      ]
     },
     "metadata": {
      "needs_background": "light"
     },
     "output_type": "display_data"
    }
   ],
   "source": [
    "# Compute cosine similarities using sklearn\n",
    "from sklearn.metrics.pairwise import cosine_similarity\n",
    "similarities = cosine_similarity(embeddings)\n",
    "\n",
    "#plot the similarities\n",
    "\n",
    "plt.figure(figsize=(10, 8))\n",
    "sns.heatmap(similarities, annot=True, cmap='coolwarm', xticklabels=sentences, yticklabels=sentences)\n",
    "plt.title(\"Cosine Similarity Heatmap\")"
   ]
  },
  {
   "cell_type": "markdown",
   "id": "b0635c7e",
   "metadata": {},
   "source": [
    "# Fil rouge: Embeddings pour visualisation et obtention de clusters\n",
    "L'avantage de transformer des phrases en vecteurs est que l'on peut ensuite appliquer des processus classiques d'analyse de données dessus.\n",
    "\n",
    "Ici, un premier usage est d'obtenir une visualisation des données : en utilisant des méthodes classiques de *réduction de dimension*, on encode chaque élément (article scientifique ici) par un vecteur a 2 dimensions (x,y) de manière à pouvoir les visualiser. Pour ce faire, on utilise UMAP (on pourrait utiliser une ACP, mais UMAP est considéré plus adapté, sans rentrer dans les détails)"
   ]
  },
  {
   "cell_type": "markdown",
   "id": "49afeafb",
   "metadata": {},
   "source": [
    "### Définition de fonctions utiles\n",
    "On décompose le code: on commence par écrire 2 fonctions, l'une pour obtenir l'embedding a partir du texte, l'autre pour appliquer une réduction de dimension a ces embeddings"
   ]
  },
  {
   "cell_type": "code",
   "execution_count": 79,
   "id": "6e11b3e1",
   "metadata": {},
   "outputs": [],
   "source": [
    "# On définit une fonction pour faire des embeddings de listes de textes\n",
    "def embed_list(text_list,model_embedding=\"bge-m3:latest\"):\n",
    "    \"\"\"\n",
    "    Function to compute embeddings for a list of texts using the Ollama client.\n",
    "    Args:\n",
    "        text_list (list): List of texts to embed.\n",
    "        model_embedding (str): Model to use for embeddings, default is \"bge-m3:latest\".\n",
    "    Returns:\n",
    "        list: List of embeddings for the input texts.\n",
    "    \"\"\"\n",
    "\n",
    "    all_embeddings = []\n",
    "    for item in text_list:\n",
    "        embedding = client.embed(model=model_embedding, input=item)\n",
    "        all_embeddings.append(embedding[\"embeddings\"][0])\n",
    "    return all_embeddings"
   ]
  },
  {
   "cell_type": "code",
   "execution_count": 80,
   "id": "4ddb5ef5",
   "metadata": {},
   "outputs": [],
   "source": [
    "#importation des méthodes de réduction de dimensionnalité\n",
    "from sklearn.decomposition import PCA\n",
    "from sklearn.manifold import TSNE\n",
    "import numpy as np\n",
    "#%pip install umap-learn\n",
    "#import umap.umap_ as umap"
   ]
  },
  {
   "cell_type": "code",
   "execution_count": 81,
   "id": "fb41c1bd",
   "metadata": {},
   "outputs": [],
   "source": [
    "def dimension_reduction(embeddings, n_components=2, method='PCA',perplexity=10):\n",
    "    \"\"\"\n",
    "    Function to perform dimensionality reduction on a list of embeddings.\n",
    "    Args:\n",
    "        embeddings (list): List of embeddings to reduce.\n",
    "        n_components (int): Number of components for the reduction, default is 5.\n",
    "        method (str): Method to use for reduction, can be 'PCA', 'TSNE', or 'UMAP'.\n",
    "        perplexity (int): Perplexity parameter for t-SNE, default is 30.\n",
    "    Returns:\n",
    "        np.ndarray: Reduced embeddings.\n",
    "    \"\"\"\n",
    "    # Convert the list of embeddings to a NumPy array\n",
    "    embeddings_array = np.array(embeddings)\n",
    "    \n",
    "    if method == 'PCA':\n",
    "        # Perform PCA\n",
    "        pca = PCA(n_components=n_components)\n",
    "        rd_result = pca.fit_transform(embeddings_array)\n",
    "    elif method == 'TSNE':\n",
    "        # Perform t-SNE\n",
    "        tsne = TSNE(n_components=n_components, perplexity=perplexity)\n",
    "        rd_result = tsne.fit_transform(embeddings_array)\n",
    "    elif method == 'UMAP':\n",
    "        # Perform UMAP\n",
    "        reducer = umap.UMAP(n_components=n_components)\n",
    "        rd_result = reducer.fit_transform(embeddings_array)\n",
    "\n",
    "    \n",
    "    return rd_result\n"
   ]
  },
  {
   "cell_type": "markdown",
   "id": "cb29ba77",
   "metadata": {},
   "source": [
    "### Execution du processus\n",
    "On appelle maintenant les fonctions pour effectuer le processus"
   ]
  },
  {
   "cell_type": "code",
   "execution_count": 82,
   "id": "3e66ee46",
   "metadata": {},
   "outputs": [],
   "source": [
    "embeddings = embed_list(all_summaries)\n",
    "dimension_reduction_result = dimension_reduction(embeddings, n_components=2, method='TSNE', perplexity=10)"
   ]
  },
  {
   "cell_type": "code",
   "execution_count": 83,
   "id": "34f4e170",
   "metadata": {},
   "outputs": [],
   "source": [
    "# on ajoute les résultats de la réduction de dimensionnalité au dataframe\n",
    "LIRISpublications['x'] = dimension_reduction_result[:, 0]\n",
    "LIRISpublications['y'] = dimension_reduction_result[:, 1]"
   ]
  },
  {
   "cell_type": "markdown",
   "id": "46d5d7a9",
   "metadata": {},
   "source": [
    "### Visualisation\n",
    "Finalement, nous visualisation le résultat. Chaque point est un article. La position qu'il occupe dans l'espace doit refléter la distance aux autres articles."
   ]
  },
  {
   "cell_type": "code",
   "execution_count": 84,
   "id": "c293e22a",
   "metadata": {},
   "outputs": [
    {
     "data": {
      "application/vnd.plotly.v1+json": {
       "config": {
        "plotlyServerURL": "https://plot.ly"
       },
       "data": [
        {
         "customdata": [
          [
           "Review of driver behaviour modelling for highway on‐ramp merging"
          ],
          [
           "London taxi drivers exploit neighbourhood boundaries for hierarchical route planning"
          ],
          [
           "A Multiagent Path Search Algorithm for Large-Scale Coalition Structure Generation\\, Accepted Paper"
          ],
          [
           "Hide Exposures by Removing Mastermind’s External Sources on Social Network (Student Abstract)"
          ],
          [
           "A modular machine learning tool for holistic and fine-grained behavioral analysis"
          ],
          [
           "Re_actShap : détection de rebranchements des réseaux de régulation d’expression génique à l’aide des valeurs SHAP"
          ],
          [
           "The R-Vessel-X Project"
          ],
          [
           "TruShare: Confidential Key-Value Store for Untrusted Environments,TruShare: base de données clé-valeur confidentielle pour environnements non-fiable"
          ],
          [
           "Multi-attribute based self-stabilizing algorithm for leader election in distributed systems"
          ],
          [
           "Beyond Batch Learning: Global Awareness Enhanced Domain Adaptation"
          ],
          [
           "$k$-Graph: A Graph Embedding for Interpretable Time Series Clustering"
          ],
          [
           "Short and local transformations between ($\\\\Delta+1$)-colorings"
          ],
          [
           "Patient-Specific Biomechanical Diaphragm-Ribs Respiratory Motion Model for Radiation Therapy"
          ],
          [
           "Topological Autoencoders++: Fast and Accurate Cycle-Aware Dimensionality Reduction"
          ],
          [
           "OWNER — Toward Unsupervised Open-World Named Entity Recognition"
          ],
          [
           "Generalization abilities of foundation models in waste classification"
          ],
          [
           "A Comprehensive Survey on Image Fusion: Which Approach Fits Which Need"
          ],
          [
           "Luciole: The Design Story of a Serious Game for Learning English Created for (and with) Children"
          ],
          [
           "A Collaborative Vocabulary Notebook as a Complementary Tool to Language Courses at the University Level"
          ],
          [
           "Multi-physics modeling of organs in motion (imaging and therapy)"
          ],
          [
           "Event knowledge and object-scene knowledge jointly influence fixations in scenes"
          ],
          [
           "GRANITE : a Byzantine-Resilient Dynamic Gossip Learning Framework"
          ],
          [
           "An informed machine learning based environmental risk score for hypertension in European adults"
          ],
          [
           "Plagiarism in education and scientific integrity in the age of Generative IA : IAgiarism ?,Plagiat en éducation et intégrité scientifique à l'ère de l'IA générative : IAgiat ?"
          ],
          [
           "Going further with Vertex Block Descent"
          ],
          [
           "Patient-Specific Biomechanical Diaphragm-Ribs Respiratory Motion Model for Radiation Therapy"
          ],
          [
           "Volume Preserving Neural Shape Morphing"
          ]
         ],
         "hovertemplate": "x=%{x}<br>y=%{y}<br>title_s=%{customdata[0]}<extra></extra>",
         "legendgroup": "",
         "marker": {
          "color": "#636efa",
          "symbol": "circle"
         },
         "mode": "markers",
         "name": "",
         "orientation": "v",
         "showlegend": false,
         "type": "scatter",
         "x": [
          36.182701110839844,
          22.097030639648438,
          -1.543164610862732,
          -30.610946655273438,
          52.9244499206543,
          -39.83241271972656,
          -37.0567626953125,
          94.36917114257812,
          -15.842888832092285,
          -20.925830841064453,
          -1.643506646156311,
          -19.266233444213867,
          -2.770143508911133,
          -42.14499282836914,
          71.58346557617188,
          34.08251953125,
          13.675647735595703,
          14.011429786682129,
          -1.9092451333999634,
          -10.713653564453125,
          41.51780700683594,
          9.99205493927002,
          52.267730712890625,
          -50.478084564208984,
          -8.973605155944824,
          7.411518096923828,
          -30.949308395385742
         ],
         "xaxis": "x",
         "y": [
          19.923316955566406,
          -46.661109924316406,
          -38.745391845703125,
          -56.44786071777344,
          -20.578210830688477,
          -18.391273498535156,
          54.91854476928711,
          -12.597993850708008,
          -40.852699279785156,
          -14.587052345275879,
          0.2500554025173187,
          3.6608898639678955,
          77.13737487792969,
          14.771218299865723,
          -32.13986587524414,
          -18.464895248413086,
          -10.07884693145752,
          -82.77294921875,
          -72.639892578125,
          57.787784576416016,
          -47.33103561401367,
          27.91468620300293,
          -5.248248100280762,
          -41.44173049926758,
          27.682266235351562,
          68.95506286621094,
          25.808731079101562
         ],
         "yaxis": "y"
        }
       ],
       "layout": {
        "legend": {
         "tracegroupgap": 0
        },
        "margin": {
         "t": 60
        },
        "template": {
         "data": {
          "bar": [
           {
            "error_x": {
             "color": "#2a3f5f"
            },
            "error_y": {
             "color": "#2a3f5f"
            },
            "marker": {
             "line": {
              "color": "#E5ECF6",
              "width": 0.5
             },
             "pattern": {
              "fillmode": "overlay",
              "size": 10,
              "solidity": 0.2
             }
            },
            "type": "bar"
           }
          ],
          "barpolar": [
           {
            "marker": {
             "line": {
              "color": "#E5ECF6",
              "width": 0.5
             },
             "pattern": {
              "fillmode": "overlay",
              "size": 10,
              "solidity": 0.2
             }
            },
            "type": "barpolar"
           }
          ],
          "carpet": [
           {
            "aaxis": {
             "endlinecolor": "#2a3f5f",
             "gridcolor": "white",
             "linecolor": "white",
             "minorgridcolor": "white",
             "startlinecolor": "#2a3f5f"
            },
            "baxis": {
             "endlinecolor": "#2a3f5f",
             "gridcolor": "white",
             "linecolor": "white",
             "minorgridcolor": "white",
             "startlinecolor": "#2a3f5f"
            },
            "type": "carpet"
           }
          ],
          "choropleth": [
           {
            "colorbar": {
             "outlinewidth": 0,
             "ticks": ""
            },
            "type": "choropleth"
           }
          ],
          "contour": [
           {
            "colorbar": {
             "outlinewidth": 0,
             "ticks": ""
            },
            "colorscale": [
             [
              0,
              "#0d0887"
             ],
             [
              0.1111111111111111,
              "#46039f"
             ],
             [
              0.2222222222222222,
              "#7201a8"
             ],
             [
              0.3333333333333333,
              "#9c179e"
             ],
             [
              0.4444444444444444,
              "#bd3786"
             ],
             [
              0.5555555555555556,
              "#d8576b"
             ],
             [
              0.6666666666666666,
              "#ed7953"
             ],
             [
              0.7777777777777778,
              "#fb9f3a"
             ],
             [
              0.8888888888888888,
              "#fdca26"
             ],
             [
              1,
              "#f0f921"
             ]
            ],
            "type": "contour"
           }
          ],
          "contourcarpet": [
           {
            "colorbar": {
             "outlinewidth": 0,
             "ticks": ""
            },
            "type": "contourcarpet"
           }
          ],
          "heatmap": [
           {
            "colorbar": {
             "outlinewidth": 0,
             "ticks": ""
            },
            "colorscale": [
             [
              0,
              "#0d0887"
             ],
             [
              0.1111111111111111,
              "#46039f"
             ],
             [
              0.2222222222222222,
              "#7201a8"
             ],
             [
              0.3333333333333333,
              "#9c179e"
             ],
             [
              0.4444444444444444,
              "#bd3786"
             ],
             [
              0.5555555555555556,
              "#d8576b"
             ],
             [
              0.6666666666666666,
              "#ed7953"
             ],
             [
              0.7777777777777778,
              "#fb9f3a"
             ],
             [
              0.8888888888888888,
              "#fdca26"
             ],
             [
              1,
              "#f0f921"
             ]
            ],
            "type": "heatmap"
           }
          ],
          "heatmapgl": [
           {
            "colorbar": {
             "outlinewidth": 0,
             "ticks": ""
            },
            "colorscale": [
             [
              0,
              "#0d0887"
             ],
             [
              0.1111111111111111,
              "#46039f"
             ],
             [
              0.2222222222222222,
              "#7201a8"
             ],
             [
              0.3333333333333333,
              "#9c179e"
             ],
             [
              0.4444444444444444,
              "#bd3786"
             ],
             [
              0.5555555555555556,
              "#d8576b"
             ],
             [
              0.6666666666666666,
              "#ed7953"
             ],
             [
              0.7777777777777778,
              "#fb9f3a"
             ],
             [
              0.8888888888888888,
              "#fdca26"
             ],
             [
              1,
              "#f0f921"
             ]
            ],
            "type": "heatmapgl"
           }
          ],
          "histogram": [
           {
            "marker": {
             "pattern": {
              "fillmode": "overlay",
              "size": 10,
              "solidity": 0.2
             }
            },
            "type": "histogram"
           }
          ],
          "histogram2d": [
           {
            "colorbar": {
             "outlinewidth": 0,
             "ticks": ""
            },
            "colorscale": [
             [
              0,
              "#0d0887"
             ],
             [
              0.1111111111111111,
              "#46039f"
             ],
             [
              0.2222222222222222,
              "#7201a8"
             ],
             [
              0.3333333333333333,
              "#9c179e"
             ],
             [
              0.4444444444444444,
              "#bd3786"
             ],
             [
              0.5555555555555556,
              "#d8576b"
             ],
             [
              0.6666666666666666,
              "#ed7953"
             ],
             [
              0.7777777777777778,
              "#fb9f3a"
             ],
             [
              0.8888888888888888,
              "#fdca26"
             ],
             [
              1,
              "#f0f921"
             ]
            ],
            "type": "histogram2d"
           }
          ],
          "histogram2dcontour": [
           {
            "colorbar": {
             "outlinewidth": 0,
             "ticks": ""
            },
            "colorscale": [
             [
              0,
              "#0d0887"
             ],
             [
              0.1111111111111111,
              "#46039f"
             ],
             [
              0.2222222222222222,
              "#7201a8"
             ],
             [
              0.3333333333333333,
              "#9c179e"
             ],
             [
              0.4444444444444444,
              "#bd3786"
             ],
             [
              0.5555555555555556,
              "#d8576b"
             ],
             [
              0.6666666666666666,
              "#ed7953"
             ],
             [
              0.7777777777777778,
              "#fb9f3a"
             ],
             [
              0.8888888888888888,
              "#fdca26"
             ],
             [
              1,
              "#f0f921"
             ]
            ],
            "type": "histogram2dcontour"
           }
          ],
          "mesh3d": [
           {
            "colorbar": {
             "outlinewidth": 0,
             "ticks": ""
            },
            "type": "mesh3d"
           }
          ],
          "parcoords": [
           {
            "line": {
             "colorbar": {
              "outlinewidth": 0,
              "ticks": ""
             }
            },
            "type": "parcoords"
           }
          ],
          "pie": [
           {
            "automargin": true,
            "type": "pie"
           }
          ],
          "scatter": [
           {
            "fillpattern": {
             "fillmode": "overlay",
             "size": 10,
             "solidity": 0.2
            },
            "type": "scatter"
           }
          ],
          "scatter3d": [
           {
            "line": {
             "colorbar": {
              "outlinewidth": 0,
              "ticks": ""
             }
            },
            "marker": {
             "colorbar": {
              "outlinewidth": 0,
              "ticks": ""
             }
            },
            "type": "scatter3d"
           }
          ],
          "scattercarpet": [
           {
            "marker": {
             "colorbar": {
              "outlinewidth": 0,
              "ticks": ""
             }
            },
            "type": "scattercarpet"
           }
          ],
          "scattergeo": [
           {
            "marker": {
             "colorbar": {
              "outlinewidth": 0,
              "ticks": ""
             }
            },
            "type": "scattergeo"
           }
          ],
          "scattergl": [
           {
            "marker": {
             "colorbar": {
              "outlinewidth": 0,
              "ticks": ""
             }
            },
            "type": "scattergl"
           }
          ],
          "scattermapbox": [
           {
            "marker": {
             "colorbar": {
              "outlinewidth": 0,
              "ticks": ""
             }
            },
            "type": "scattermapbox"
           }
          ],
          "scatterpolar": [
           {
            "marker": {
             "colorbar": {
              "outlinewidth": 0,
              "ticks": ""
             }
            },
            "type": "scatterpolar"
           }
          ],
          "scatterpolargl": [
           {
            "marker": {
             "colorbar": {
              "outlinewidth": 0,
              "ticks": ""
             }
            },
            "type": "scatterpolargl"
           }
          ],
          "scatterternary": [
           {
            "marker": {
             "colorbar": {
              "outlinewidth": 0,
              "ticks": ""
             }
            },
            "type": "scatterternary"
           }
          ],
          "surface": [
           {
            "colorbar": {
             "outlinewidth": 0,
             "ticks": ""
            },
            "colorscale": [
             [
              0,
              "#0d0887"
             ],
             [
              0.1111111111111111,
              "#46039f"
             ],
             [
              0.2222222222222222,
              "#7201a8"
             ],
             [
              0.3333333333333333,
              "#9c179e"
             ],
             [
              0.4444444444444444,
              "#bd3786"
             ],
             [
              0.5555555555555556,
              "#d8576b"
             ],
             [
              0.6666666666666666,
              "#ed7953"
             ],
             [
              0.7777777777777778,
              "#fb9f3a"
             ],
             [
              0.8888888888888888,
              "#fdca26"
             ],
             [
              1,
              "#f0f921"
             ]
            ],
            "type": "surface"
           }
          ],
          "table": [
           {
            "cells": {
             "fill": {
              "color": "#EBF0F8"
             },
             "line": {
              "color": "white"
             }
            },
            "header": {
             "fill": {
              "color": "#C8D4E3"
             },
             "line": {
              "color": "white"
             }
            },
            "type": "table"
           }
          ]
         },
         "layout": {
          "annotationdefaults": {
           "arrowcolor": "#2a3f5f",
           "arrowhead": 0,
           "arrowwidth": 1
          },
          "autotypenumbers": "strict",
          "coloraxis": {
           "colorbar": {
            "outlinewidth": 0,
            "ticks": ""
           }
          },
          "colorscale": {
           "diverging": [
            [
             0,
             "#8e0152"
            ],
            [
             0.1,
             "#c51b7d"
            ],
            [
             0.2,
             "#de77ae"
            ],
            [
             0.3,
             "#f1b6da"
            ],
            [
             0.4,
             "#fde0ef"
            ],
            [
             0.5,
             "#f7f7f7"
            ],
            [
             0.6,
             "#e6f5d0"
            ],
            [
             0.7,
             "#b8e186"
            ],
            [
             0.8,
             "#7fbc41"
            ],
            [
             0.9,
             "#4d9221"
            ],
            [
             1,
             "#276419"
            ]
           ],
           "sequential": [
            [
             0,
             "#0d0887"
            ],
            [
             0.1111111111111111,
             "#46039f"
            ],
            [
             0.2222222222222222,
             "#7201a8"
            ],
            [
             0.3333333333333333,
             "#9c179e"
            ],
            [
             0.4444444444444444,
             "#bd3786"
            ],
            [
             0.5555555555555556,
             "#d8576b"
            ],
            [
             0.6666666666666666,
             "#ed7953"
            ],
            [
             0.7777777777777778,
             "#fb9f3a"
            ],
            [
             0.8888888888888888,
             "#fdca26"
            ],
            [
             1,
             "#f0f921"
            ]
           ],
           "sequentialminus": [
            [
             0,
             "#0d0887"
            ],
            [
             0.1111111111111111,
             "#46039f"
            ],
            [
             0.2222222222222222,
             "#7201a8"
            ],
            [
             0.3333333333333333,
             "#9c179e"
            ],
            [
             0.4444444444444444,
             "#bd3786"
            ],
            [
             0.5555555555555556,
             "#d8576b"
            ],
            [
             0.6666666666666666,
             "#ed7953"
            ],
            [
             0.7777777777777778,
             "#fb9f3a"
            ],
            [
             0.8888888888888888,
             "#fdca26"
            ],
            [
             1,
             "#f0f921"
            ]
           ]
          },
          "colorway": [
           "#636efa",
           "#EF553B",
           "#00cc96",
           "#ab63fa",
           "#FFA15A",
           "#19d3f3",
           "#FF6692",
           "#B6E880",
           "#FF97FF",
           "#FECB52"
          ],
          "font": {
           "color": "#2a3f5f"
          },
          "geo": {
           "bgcolor": "white",
           "lakecolor": "white",
           "landcolor": "#E5ECF6",
           "showlakes": true,
           "showland": true,
           "subunitcolor": "white"
          },
          "hoverlabel": {
           "align": "left"
          },
          "hovermode": "closest",
          "mapbox": {
           "style": "light"
          },
          "paper_bgcolor": "white",
          "plot_bgcolor": "#E5ECF6",
          "polar": {
           "angularaxis": {
            "gridcolor": "white",
            "linecolor": "white",
            "ticks": ""
           },
           "bgcolor": "#E5ECF6",
           "radialaxis": {
            "gridcolor": "white",
            "linecolor": "white",
            "ticks": ""
           }
          },
          "scene": {
           "xaxis": {
            "backgroundcolor": "#E5ECF6",
            "gridcolor": "white",
            "gridwidth": 2,
            "linecolor": "white",
            "showbackground": true,
            "ticks": "",
            "zerolinecolor": "white"
           },
           "yaxis": {
            "backgroundcolor": "#E5ECF6",
            "gridcolor": "white",
            "gridwidth": 2,
            "linecolor": "white",
            "showbackground": true,
            "ticks": "",
            "zerolinecolor": "white"
           },
           "zaxis": {
            "backgroundcolor": "#E5ECF6",
            "gridcolor": "white",
            "gridwidth": 2,
            "linecolor": "white",
            "showbackground": true,
            "ticks": "",
            "zerolinecolor": "white"
           }
          },
          "shapedefaults": {
           "line": {
            "color": "#2a3f5f"
           }
          },
          "ternary": {
           "aaxis": {
            "gridcolor": "white",
            "linecolor": "white",
            "ticks": ""
           },
           "baxis": {
            "gridcolor": "white",
            "linecolor": "white",
            "ticks": ""
           },
           "bgcolor": "#E5ECF6",
           "caxis": {
            "gridcolor": "white",
            "linecolor": "white",
            "ticks": ""
           }
          },
          "title": {
           "x": 0.05
          },
          "xaxis": {
           "automargin": true,
           "gridcolor": "white",
           "linecolor": "white",
           "ticks": "",
           "title": {
            "standoff": 15
           },
           "zerolinecolor": "white",
           "zerolinewidth": 2
          },
          "yaxis": {
           "automargin": true,
           "gridcolor": "white",
           "linecolor": "white",
           "ticks": "",
           "title": {
            "standoff": 15
           },
           "zerolinecolor": "white",
           "zerolinewidth": 2
          }
         }
        },
        "xaxis": {
         "anchor": "y",
         "domain": [
          0,
          1
         ],
         "title": {
          "text": "x"
         }
        },
        "yaxis": {
         "anchor": "x",
         "domain": [
          0,
          1
         ],
         "title": {
          "text": "y"
         }
        }
       }
      }
     },
     "metadata": {},
     "output_type": "display_data"
    }
   ],
   "source": [
    "#interactive plot of embeddings after TSNE\n",
    "import plotly.express as px\n",
    "fig = px.scatter(LIRISpublications, x='x', y='y',  hover_data=['title_s'])\n",
    "fig.show()"
   ]
  },
  {
   "cell_type": "markdown",
   "id": "d0e3859a",
   "metadata": {},
   "source": [
    "### Clustering\n",
    "Une outil classique d'analyse de données est le **clustering** de données : l'objectif est simplement de trouver un nombre déterminé de groupes, tels que les éléments d'un groupe soient aussi similaire entre eux que possible, tandis que des éléments appartenant à des groupes différent sont aussi dissimilaires que possible. L'algorithme classique pour effectuer un tel clustering est *k-means*. Ici, on l'applique et on visualise les résultats. "
   ]
  },
  {
   "cell_type": "code",
   "execution_count": 85,
   "id": "ad05fc8e",
   "metadata": {},
   "outputs": [],
   "source": [
    "import numpy as np\n",
    "import pandas as pd\n",
    "from sklearn.cluster import KMeans\n",
    "from sklearn.preprocessing import normalize\n",
    "\n",
    "def k_means_embeddings(embeddings, n_clusters=5):\n",
    "\n",
    "    # Normalize the embeddings to unit length\n",
    "    normalized_embeddings = normalize(embeddings)\n",
    "    # Convert the list of embeddings to a NumPy array\n",
    "    embeddings_array = np.array(normalized_embeddings)\n",
    "\n",
    "    # Perform KMeans clustering\n",
    "    kmeans = KMeans(n_clusters=n_clusters)\n",
    "\n",
    "    return kmeans.fit_predict(embeddings_array)"
   ]
  },
  {
   "cell_type": "code",
   "execution_count": 86,
   "id": "952901ff",
   "metadata": {},
   "outputs": [
    {
     "name": "stderr",
     "output_type": "stream",
     "text": [
      "/Users/remycazabet/opt/anaconda3/lib/python3.8/site-packages/sklearn/cluster/_kmeans.py:1416: FutureWarning:\n",
      "\n",
      "The default value of `n_init` will change from 10 to 'auto' in 1.4. Set the value of `n_init` explicitly to suppress the warning\n",
      "\n"
     ]
    }
   ],
   "source": [
    "PCA_reduced_embeddings = dimension_reduction(embeddings, n_components=10, method='PCA')\n",
    "kmeans_labels = k_means_embeddings(PCA_reduced_embeddings, n_clusters=5)\n",
    "# Add the KMeans labels to the DataFrame\n",
    "LIRISpublications['kmeans_label'] = kmeans_labels"
   ]
  },
  {
   "cell_type": "code",
   "execution_count": 87,
   "id": "67856bc8",
   "metadata": {},
   "outputs": [
    {
     "data": {
      "application/vnd.plotly.v1+json": {
       "config": {
        "plotlyServerURL": "https://plot.ly"
       },
       "data": [
        {
         "customdata": [
          [
           "Review of driver behaviour modelling for highway on‐ramp merging"
          ],
          [
           "London taxi drivers exploit neighbourhood boundaries for hierarchical route planning"
          ],
          [
           "A Multiagent Path Search Algorithm for Large-Scale Coalition Structure Generation\\, Accepted Paper"
          ],
          [
           "Hide Exposures by Removing Mastermind’s External Sources on Social Network (Student Abstract)"
          ],
          [
           "A modular machine learning tool for holistic and fine-grained behavioral analysis"
          ],
          [
           "Re_actShap : détection de rebranchements des réseaux de régulation d’expression génique à l’aide des valeurs SHAP"
          ],
          [
           "The R-Vessel-X Project"
          ],
          [
           "TruShare: Confidential Key-Value Store for Untrusted Environments,TruShare: base de données clé-valeur confidentielle pour environnements non-fiable"
          ],
          [
           "Multi-attribute based self-stabilizing algorithm for leader election in distributed systems"
          ],
          [
           "Beyond Batch Learning: Global Awareness Enhanced Domain Adaptation"
          ],
          [
           "$k$-Graph: A Graph Embedding for Interpretable Time Series Clustering"
          ],
          [
           "Short and local transformations between ($\\\\Delta+1$)-colorings"
          ],
          [
           "Patient-Specific Biomechanical Diaphragm-Ribs Respiratory Motion Model for Radiation Therapy"
          ],
          [
           "Topological Autoencoders++: Fast and Accurate Cycle-Aware Dimensionality Reduction"
          ],
          [
           "OWNER — Toward Unsupervised Open-World Named Entity Recognition"
          ],
          [
           "Generalization abilities of foundation models in waste classification"
          ],
          [
           "A Comprehensive Survey on Image Fusion: Which Approach Fits Which Need"
          ],
          [
           "Luciole: The Design Story of a Serious Game for Learning English Created for (and with) Children"
          ],
          [
           "A Collaborative Vocabulary Notebook as a Complementary Tool to Language Courses at the University Level"
          ],
          [
           "Multi-physics modeling of organs in motion (imaging and therapy)"
          ],
          [
           "Event knowledge and object-scene knowledge jointly influence fixations in scenes"
          ],
          [
           "GRANITE : a Byzantine-Resilient Dynamic Gossip Learning Framework"
          ],
          [
           "An informed machine learning based environmental risk score for hypertension in European adults"
          ],
          [
           "Plagiarism in education and scientific integrity in the age of Generative IA : IAgiarism ?,Plagiat en éducation et intégrité scientifique à l'ère de l'IA générative : IAgiat ?"
          ],
          [
           "Going further with Vertex Block Descent"
          ],
          [
           "Patient-Specific Biomechanical Diaphragm-Ribs Respiratory Motion Model for Radiation Therapy"
          ],
          [
           "Volume Preserving Neural Shape Morphing"
          ]
         ],
         "hovertemplate": "x=%{x}<br>y=%{y}<br>title_s=%{customdata[0]}<br>Cluster=%{marker.color}<extra></extra>",
         "legendgroup": "",
         "marker": {
          "color": [
           4,
           1,
           3,
           2,
           1,
           2,
           4,
           4,
           2,
           3,
           3,
           3,
           0,
           3,
           1,
           1,
           4,
           4,
           4,
           0,
           1,
           4,
           1,
           2,
           3,
           0,
           3
          ],
          "coloraxis": "coloraxis",
          "size": 10,
          "symbol": "circle"
         },
         "mode": "markers",
         "name": "",
         "orientation": "v",
         "showlegend": false,
         "type": "scatter",
         "x": [
          36.182701110839844,
          22.097030639648438,
          -1.543164610862732,
          -30.610946655273438,
          52.9244499206543,
          -39.83241271972656,
          -37.0567626953125,
          94.36917114257812,
          -15.842888832092285,
          -20.925830841064453,
          -1.643506646156311,
          -19.266233444213867,
          -2.770143508911133,
          -42.14499282836914,
          71.58346557617188,
          34.08251953125,
          13.675647735595703,
          14.011429786682129,
          -1.9092451333999634,
          -10.713653564453125,
          41.51780700683594,
          9.99205493927002,
          52.267730712890625,
          -50.478084564208984,
          -8.973605155944824,
          7.411518096923828,
          -30.949308395385742
         ],
         "xaxis": "x",
         "y": [
          19.923316955566406,
          -46.661109924316406,
          -38.745391845703125,
          -56.44786071777344,
          -20.578210830688477,
          -18.391273498535156,
          54.91854476928711,
          -12.597993850708008,
          -40.852699279785156,
          -14.587052345275879,
          0.2500554025173187,
          3.6608898639678955,
          77.13737487792969,
          14.771218299865723,
          -32.13986587524414,
          -18.464895248413086,
          -10.07884693145752,
          -82.77294921875,
          -72.639892578125,
          57.787784576416016,
          -47.33103561401367,
          27.91468620300293,
          -5.248248100280762,
          -41.44173049926758,
          27.682266235351562,
          68.95506286621094,
          25.808731079101562
         ],
         "yaxis": "y"
        }
       ],
       "layout": {
        "coloraxis": {
         "colorbar": {
          "title": {
           "text": "Cluster"
          }
         },
         "colorscale": [
          [
           0,
           "#440154"
          ],
          [
           0.1111111111111111,
           "#482878"
          ],
          [
           0.2222222222222222,
           "#3e4989"
          ],
          [
           0.3333333333333333,
           "#31688e"
          ],
          [
           0.4444444444444444,
           "#26828e"
          ],
          [
           0.5555555555555556,
           "#1f9e89"
          ],
          [
           0.6666666666666666,
           "#35b779"
          ],
          [
           0.7777777777777778,
           "#6ece58"
          ],
          [
           0.8888888888888888,
           "#b5de2b"
          ],
          [
           1,
           "#fde725"
          ]
         ]
        },
        "legend": {
         "tracegroupgap": 0
        },
        "template": {
         "data": {
          "bar": [
           {
            "error_x": {
             "color": "#2a3f5f"
            },
            "error_y": {
             "color": "#2a3f5f"
            },
            "marker": {
             "line": {
              "color": "#E5ECF6",
              "width": 0.5
             },
             "pattern": {
              "fillmode": "overlay",
              "size": 10,
              "solidity": 0.2
             }
            },
            "type": "bar"
           }
          ],
          "barpolar": [
           {
            "marker": {
             "line": {
              "color": "#E5ECF6",
              "width": 0.5
             },
             "pattern": {
              "fillmode": "overlay",
              "size": 10,
              "solidity": 0.2
             }
            },
            "type": "barpolar"
           }
          ],
          "carpet": [
           {
            "aaxis": {
             "endlinecolor": "#2a3f5f",
             "gridcolor": "white",
             "linecolor": "white",
             "minorgridcolor": "white",
             "startlinecolor": "#2a3f5f"
            },
            "baxis": {
             "endlinecolor": "#2a3f5f",
             "gridcolor": "white",
             "linecolor": "white",
             "minorgridcolor": "white",
             "startlinecolor": "#2a3f5f"
            },
            "type": "carpet"
           }
          ],
          "choropleth": [
           {
            "colorbar": {
             "outlinewidth": 0,
             "ticks": ""
            },
            "type": "choropleth"
           }
          ],
          "contour": [
           {
            "colorbar": {
             "outlinewidth": 0,
             "ticks": ""
            },
            "colorscale": [
             [
              0,
              "#0d0887"
             ],
             [
              0.1111111111111111,
              "#46039f"
             ],
             [
              0.2222222222222222,
              "#7201a8"
             ],
             [
              0.3333333333333333,
              "#9c179e"
             ],
             [
              0.4444444444444444,
              "#bd3786"
             ],
             [
              0.5555555555555556,
              "#d8576b"
             ],
             [
              0.6666666666666666,
              "#ed7953"
             ],
             [
              0.7777777777777778,
              "#fb9f3a"
             ],
             [
              0.8888888888888888,
              "#fdca26"
             ],
             [
              1,
              "#f0f921"
             ]
            ],
            "type": "contour"
           }
          ],
          "contourcarpet": [
           {
            "colorbar": {
             "outlinewidth": 0,
             "ticks": ""
            },
            "type": "contourcarpet"
           }
          ],
          "heatmap": [
           {
            "colorbar": {
             "outlinewidth": 0,
             "ticks": ""
            },
            "colorscale": [
             [
              0,
              "#0d0887"
             ],
             [
              0.1111111111111111,
              "#46039f"
             ],
             [
              0.2222222222222222,
              "#7201a8"
             ],
             [
              0.3333333333333333,
              "#9c179e"
             ],
             [
              0.4444444444444444,
              "#bd3786"
             ],
             [
              0.5555555555555556,
              "#d8576b"
             ],
             [
              0.6666666666666666,
              "#ed7953"
             ],
             [
              0.7777777777777778,
              "#fb9f3a"
             ],
             [
              0.8888888888888888,
              "#fdca26"
             ],
             [
              1,
              "#f0f921"
             ]
            ],
            "type": "heatmap"
           }
          ],
          "heatmapgl": [
           {
            "colorbar": {
             "outlinewidth": 0,
             "ticks": ""
            },
            "colorscale": [
             [
              0,
              "#0d0887"
             ],
             [
              0.1111111111111111,
              "#46039f"
             ],
             [
              0.2222222222222222,
              "#7201a8"
             ],
             [
              0.3333333333333333,
              "#9c179e"
             ],
             [
              0.4444444444444444,
              "#bd3786"
             ],
             [
              0.5555555555555556,
              "#d8576b"
             ],
             [
              0.6666666666666666,
              "#ed7953"
             ],
             [
              0.7777777777777778,
              "#fb9f3a"
             ],
             [
              0.8888888888888888,
              "#fdca26"
             ],
             [
              1,
              "#f0f921"
             ]
            ],
            "type": "heatmapgl"
           }
          ],
          "histogram": [
           {
            "marker": {
             "pattern": {
              "fillmode": "overlay",
              "size": 10,
              "solidity": 0.2
             }
            },
            "type": "histogram"
           }
          ],
          "histogram2d": [
           {
            "colorbar": {
             "outlinewidth": 0,
             "ticks": ""
            },
            "colorscale": [
             [
              0,
              "#0d0887"
             ],
             [
              0.1111111111111111,
              "#46039f"
             ],
             [
              0.2222222222222222,
              "#7201a8"
             ],
             [
              0.3333333333333333,
              "#9c179e"
             ],
             [
              0.4444444444444444,
              "#bd3786"
             ],
             [
              0.5555555555555556,
              "#d8576b"
             ],
             [
              0.6666666666666666,
              "#ed7953"
             ],
             [
              0.7777777777777778,
              "#fb9f3a"
             ],
             [
              0.8888888888888888,
              "#fdca26"
             ],
             [
              1,
              "#f0f921"
             ]
            ],
            "type": "histogram2d"
           }
          ],
          "histogram2dcontour": [
           {
            "colorbar": {
             "outlinewidth": 0,
             "ticks": ""
            },
            "colorscale": [
             [
              0,
              "#0d0887"
             ],
             [
              0.1111111111111111,
              "#46039f"
             ],
             [
              0.2222222222222222,
              "#7201a8"
             ],
             [
              0.3333333333333333,
              "#9c179e"
             ],
             [
              0.4444444444444444,
              "#bd3786"
             ],
             [
              0.5555555555555556,
              "#d8576b"
             ],
             [
              0.6666666666666666,
              "#ed7953"
             ],
             [
              0.7777777777777778,
              "#fb9f3a"
             ],
             [
              0.8888888888888888,
              "#fdca26"
             ],
             [
              1,
              "#f0f921"
             ]
            ],
            "type": "histogram2dcontour"
           }
          ],
          "mesh3d": [
           {
            "colorbar": {
             "outlinewidth": 0,
             "ticks": ""
            },
            "type": "mesh3d"
           }
          ],
          "parcoords": [
           {
            "line": {
             "colorbar": {
              "outlinewidth": 0,
              "ticks": ""
             }
            },
            "type": "parcoords"
           }
          ],
          "pie": [
           {
            "automargin": true,
            "type": "pie"
           }
          ],
          "scatter": [
           {
            "fillpattern": {
             "fillmode": "overlay",
             "size": 10,
             "solidity": 0.2
            },
            "type": "scatter"
           }
          ],
          "scatter3d": [
           {
            "line": {
             "colorbar": {
              "outlinewidth": 0,
              "ticks": ""
             }
            },
            "marker": {
             "colorbar": {
              "outlinewidth": 0,
              "ticks": ""
             }
            },
            "type": "scatter3d"
           }
          ],
          "scattercarpet": [
           {
            "marker": {
             "colorbar": {
              "outlinewidth": 0,
              "ticks": ""
             }
            },
            "type": "scattercarpet"
           }
          ],
          "scattergeo": [
           {
            "marker": {
             "colorbar": {
              "outlinewidth": 0,
              "ticks": ""
             }
            },
            "type": "scattergeo"
           }
          ],
          "scattergl": [
           {
            "marker": {
             "colorbar": {
              "outlinewidth": 0,
              "ticks": ""
             }
            },
            "type": "scattergl"
           }
          ],
          "scattermapbox": [
           {
            "marker": {
             "colorbar": {
              "outlinewidth": 0,
              "ticks": ""
             }
            },
            "type": "scattermapbox"
           }
          ],
          "scatterpolar": [
           {
            "marker": {
             "colorbar": {
              "outlinewidth": 0,
              "ticks": ""
             }
            },
            "type": "scatterpolar"
           }
          ],
          "scatterpolargl": [
           {
            "marker": {
             "colorbar": {
              "outlinewidth": 0,
              "ticks": ""
             }
            },
            "type": "scatterpolargl"
           }
          ],
          "scatterternary": [
           {
            "marker": {
             "colorbar": {
              "outlinewidth": 0,
              "ticks": ""
             }
            },
            "type": "scatterternary"
           }
          ],
          "surface": [
           {
            "colorbar": {
             "outlinewidth": 0,
             "ticks": ""
            },
            "colorscale": [
             [
              0,
              "#0d0887"
             ],
             [
              0.1111111111111111,
              "#46039f"
             ],
             [
              0.2222222222222222,
              "#7201a8"
             ],
             [
              0.3333333333333333,
              "#9c179e"
             ],
             [
              0.4444444444444444,
              "#bd3786"
             ],
             [
              0.5555555555555556,
              "#d8576b"
             ],
             [
              0.6666666666666666,
              "#ed7953"
             ],
             [
              0.7777777777777778,
              "#fb9f3a"
             ],
             [
              0.8888888888888888,
              "#fdca26"
             ],
             [
              1,
              "#f0f921"
             ]
            ],
            "type": "surface"
           }
          ],
          "table": [
           {
            "cells": {
             "fill": {
              "color": "#EBF0F8"
             },
             "line": {
              "color": "white"
             }
            },
            "header": {
             "fill": {
              "color": "#C8D4E3"
             },
             "line": {
              "color": "white"
             }
            },
            "type": "table"
           }
          ]
         },
         "layout": {
          "annotationdefaults": {
           "arrowcolor": "#2a3f5f",
           "arrowhead": 0,
           "arrowwidth": 1
          },
          "autotypenumbers": "strict",
          "coloraxis": {
           "colorbar": {
            "outlinewidth": 0,
            "ticks": ""
           }
          },
          "colorscale": {
           "diverging": [
            [
             0,
             "#8e0152"
            ],
            [
             0.1,
             "#c51b7d"
            ],
            [
             0.2,
             "#de77ae"
            ],
            [
             0.3,
             "#f1b6da"
            ],
            [
             0.4,
             "#fde0ef"
            ],
            [
             0.5,
             "#f7f7f7"
            ],
            [
             0.6,
             "#e6f5d0"
            ],
            [
             0.7,
             "#b8e186"
            ],
            [
             0.8,
             "#7fbc41"
            ],
            [
             0.9,
             "#4d9221"
            ],
            [
             1,
             "#276419"
            ]
           ],
           "sequential": [
            [
             0,
             "#0d0887"
            ],
            [
             0.1111111111111111,
             "#46039f"
            ],
            [
             0.2222222222222222,
             "#7201a8"
            ],
            [
             0.3333333333333333,
             "#9c179e"
            ],
            [
             0.4444444444444444,
             "#bd3786"
            ],
            [
             0.5555555555555556,
             "#d8576b"
            ],
            [
             0.6666666666666666,
             "#ed7953"
            ],
            [
             0.7777777777777778,
             "#fb9f3a"
            ],
            [
             0.8888888888888888,
             "#fdca26"
            ],
            [
             1,
             "#f0f921"
            ]
           ],
           "sequentialminus": [
            [
             0,
             "#0d0887"
            ],
            [
             0.1111111111111111,
             "#46039f"
            ],
            [
             0.2222222222222222,
             "#7201a8"
            ],
            [
             0.3333333333333333,
             "#9c179e"
            ],
            [
             0.4444444444444444,
             "#bd3786"
            ],
            [
             0.5555555555555556,
             "#d8576b"
            ],
            [
             0.6666666666666666,
             "#ed7953"
            ],
            [
             0.7777777777777778,
             "#fb9f3a"
            ],
            [
             0.8888888888888888,
             "#fdca26"
            ],
            [
             1,
             "#f0f921"
            ]
           ]
          },
          "colorway": [
           "#636efa",
           "#EF553B",
           "#00cc96",
           "#ab63fa",
           "#FFA15A",
           "#19d3f3",
           "#FF6692",
           "#B6E880",
           "#FF97FF",
           "#FECB52"
          ],
          "font": {
           "color": "#2a3f5f"
          },
          "geo": {
           "bgcolor": "white",
           "lakecolor": "white",
           "landcolor": "#E5ECF6",
           "showlakes": true,
           "showland": true,
           "subunitcolor": "white"
          },
          "hoverlabel": {
           "align": "left"
          },
          "hovermode": "closest",
          "mapbox": {
           "style": "light"
          },
          "paper_bgcolor": "white",
          "plot_bgcolor": "#E5ECF6",
          "polar": {
           "angularaxis": {
            "gridcolor": "white",
            "linecolor": "white",
            "ticks": ""
           },
           "bgcolor": "#E5ECF6",
           "radialaxis": {
            "gridcolor": "white",
            "linecolor": "white",
            "ticks": ""
           }
          },
          "scene": {
           "xaxis": {
            "backgroundcolor": "#E5ECF6",
            "gridcolor": "white",
            "gridwidth": 2,
            "linecolor": "white",
            "showbackground": true,
            "ticks": "",
            "zerolinecolor": "white"
           },
           "yaxis": {
            "backgroundcolor": "#E5ECF6",
            "gridcolor": "white",
            "gridwidth": 2,
            "linecolor": "white",
            "showbackground": true,
            "ticks": "",
            "zerolinecolor": "white"
           },
           "zaxis": {
            "backgroundcolor": "#E5ECF6",
            "gridcolor": "white",
            "gridwidth": 2,
            "linecolor": "white",
            "showbackground": true,
            "ticks": "",
            "zerolinecolor": "white"
           }
          },
          "shapedefaults": {
           "line": {
            "color": "#2a3f5f"
           }
          },
          "ternary": {
           "aaxis": {
            "gridcolor": "white",
            "linecolor": "white",
            "ticks": ""
           },
           "baxis": {
            "gridcolor": "white",
            "linecolor": "white",
            "ticks": ""
           },
           "bgcolor": "#E5ECF6",
           "caxis": {
            "gridcolor": "white",
            "linecolor": "white",
            "ticks": ""
           }
          },
          "title": {
           "x": 0.05
          },
          "xaxis": {
           "automargin": true,
           "gridcolor": "white",
           "linecolor": "white",
           "ticks": "",
           "title": {
            "standoff": 15
           },
           "zerolinecolor": "white",
           "zerolinewidth": 2
          },
          "yaxis": {
           "automargin": true,
           "gridcolor": "white",
           "linecolor": "white",
           "ticks": "",
           "title": {
            "standoff": 15
           },
           "zerolinecolor": "white",
           "zerolinewidth": 2
          }
         }
        },
        "title": {
         "text": "KMeans Clustering of Summaries"
        },
        "xaxis": {
         "anchor": "y",
         "domain": [
          0,
          1
         ],
         "title": {
          "text": "x"
         }
        },
        "yaxis": {
         "anchor": "x",
         "domain": [
          0,
          1
         ],
         "title": {
          "text": "y"
         }
        }
       }
      }
     },
     "metadata": {},
     "output_type": "display_data"
    }
   ],
   "source": [
    "#visualisation des clusters avec de larges points et plotly, avec legende categorielle\n",
    "import plotly.express as px\n",
    "fig = px.scatter(LIRISpublications, x='x', y='y', color='kmeans_label',\n",
    "                 hover_data=['title_s'], \n",
    "                 title='KMeans Clustering of Summaries',\n",
    "                 labels={'kmeans_label': 'Cluster'},\n",
    "                 color_continuous_scale=px.colors.sequential.Viridis)\n",
    "fig.update_traces(marker=dict(size=10))  # Adjust marker size\n",
    "fig.show()"
   ]
  },
  {
   "cell_type": "code",
   "execution_count": null,
   "id": "8309fc58",
   "metadata": {},
   "outputs": [],
   "source": []
  },
  {
   "cell_type": "markdown",
   "id": "d1d6f420",
   "metadata": {},
   "source": [
    "# Sorties structurées (Structured outputs)\n",
    "Lorsque l'on interroge le LLM en mode texte, il est possible de renvoyer son résultat dans un format structuré, le format JSON. Concrètement, certains modèles sont spécifiquement entrainé a renvoyer des réponses dans ce format. Cela est pratique lorsque l'on demande d'extraire des propriétés précises. \n",
    "\n",
    "### Fil rouge\n",
    "Ici, nous allons utiliser les structured outputs pour générer des résumés de chaque cluster d'article obtenu a l'étape précédente. Nous demandons au LLM de renvoyer pour chaque cluster (composé de plusieurs articles) un titre, et une description en 5 mot-clefs. Si l'on ne demandait pas un retour structuré, il serait difficile de récupérer informatiquement ce résultat, qui pourrait être présenté de différentes manières"
   ]
  },
  {
   "cell_type": "code",
   "execution_count": null,
   "id": "3398c3b1",
   "metadata": {},
   "outputs": [],
   "source": [
    "import json\n",
    "from pydantic import BaseModel, Field, ValidationError\n",
    "from typing import List, Dict, Union\n",
    "\n",
    "#Nous définissons la forme de la réponse attendue\n",
    "class ClusterSummary(BaseModel):\n",
    "    title: str = Field(..., max_length=80)\n",
    "    keywords: List[str] = Field(..., min_items=3, max_items=3)\n",
    "\n",
    "def summarize_clusters(\n",
    "    df: pd.DataFrame,\n",
    "    cluster_col: str = \"cluster\",\n",
    "    col: str = \"summary\",\n",
    "    model: str = \"gemma3:27b\"\n",
    ") -> Dict[int, Union[ClusterSummary, dict]]:\n",
    "    result = {}\n",
    "\n",
    "    for cluster_id, cluster_df in df.groupby(cluster_col):\n",
    "        texts = \" \".join(cluster_df[col].tolist())[:8_000]  # hard-cap 8k chars\n",
    "\n",
    "        prompt = (\n",
    "            \"You are given a collection of short texts. \"\n",
    "            \"Summarize them by generating a concise title (≤ 20 words) and \"\n",
    "            \"exactly three single-word keywords.\\n\\n\"\n",
    "            f\"Text collection:\\n{texts}\"\n",
    "        )\n",
    "\n",
    "        try:\n",
    "            response = client.chat(\n",
    "                model=model,\n",
    "                options={'temperature': 0},\n",
    "                format=ClusterSummary.model_json_schema(),  # <- le schema !\n",
    "                messages=[{\"role\": \"user\", \"content\": prompt}],\n",
    "            )\n",
    "            result[cluster_id] = ClusterSummary.model_validate_json(\n",
    "                response[\"message\"].content\n",
    "            )\n",
    "        except (ValidationError, KeyError) as e:\n",
    "            result[cluster_id] = {\n",
    "                \"error\": str(e),\n",
    "                \"raw_response\": getattr(response.choices[0].message, \"content\", \"\"),\n",
    "            }\n",
    "\n",
    "    return result"
   ]
  },
  {
   "cell_type": "code",
   "execution_count": 109,
   "id": "f423a945",
   "metadata": {},
   "outputs": [
    {
     "data": {
      "text/plain": [
       "{0: ClusterSummary(title='Personalized Breathing Model for Improved Lung Cancer Radiation Therapy', keywords=['biomechanics', 'radiation', 'modeling']),\n",
       " 1: ClusterSummary(title='AI & Human Spatial/Behavioral Understanding: Cognitive Mapping, Prediction & ML', keywords=['cognition', 'analysis', 'prediction']),\n",
       " 2: ClusterSummary(title='Network Analysis, AI Ethics, and Robust System Design', keywords=['Networks', 'AI', 'Resilience']),\n",
       " 3: ClusterSummary(title='Advances in Algorithms & Machine Learning for Complex Data & Simulations', keywords=['algorithms', 'machinelearning', 'optimization']),\n",
       " 4: ClusterSummary(title='Research Highlights: Traffic, Data Security, and Enhanced Learning', keywords=['Research', 'Innovation', 'Technology'])}"
      ]
     },
     "execution_count": 109,
     "metadata": {},
     "output_type": "execute_result"
    }
   ],
   "source": [
    "summarize_clusters(LIRISpublications, cluster_col='kmeans_label', col='summary')"
   ]
  },
  {
   "cell_type": "code",
   "execution_count": null,
   "id": "95f37031",
   "metadata": {},
   "outputs": [],
   "source": []
  },
  {
   "cell_type": "markdown",
   "id": "6cbb929e",
   "metadata": {},
   "source": [
    "# Autres fonctionnalités\n",
    "## Description d'images\n",
    "Si l'on utilise un modèle *multimodal*, il est possible de travailler avec des images. Dans ce contexte, on ne s'intéressera pas à la génération d'image, mais seulement a leur analyse. Il est possible de passer une image au modèle, en lui associant un texte, et de recevoir une réponse textuelle en retour. "
   ]
  },
  {
   "cell_type": "code",
   "execution_count": 9,
   "id": "856b9c6a",
   "metadata": {},
   "outputs": [
    {
     "name": "stdout",
     "output_type": "stream",
     "text": [
      "Here's what I see in the image:\n",
      "\n",
      "*   **A cat:** The main subject of the image is a beautiful cat with striking blue eyes. It has a mix of colors - dark patches on its head and lighter, cream-colored fur on its body.\n",
      "*   **Hexagonal/Octagonal Bed:** The cat is inside a unique-shaped bed. It appears to be made of plastic or a similar material and has a hexagonal or octagonal shape.\n",
      "*   **Pillow:** The cat is lying on a soft pillow inside the bed. The pillow has a teal/green patterned fabric.\n",
      "*   **Outdoor setting:** The background suggests that the bed is placed outdoors. There's a concrete wall or structure visible, as well as some grass and gravel.\n",
      "\n",
      "Overall, the image shows a cat comfortably resting inside a hexagonal/octagonal outdoor bed.\n"
     ]
    }
   ],
   "source": [
    "\n",
    "reply = client.chat(\n",
    "    model=\"gemma3:27b\",\n",
    "    messages=[{\n",
    "        \"role\": \"user\",\n",
    "        \"content\": \"What is in this image?\",\n",
    "        \"images\": [\"./cat.jpg\"]\n",
    "    }]\n",
    ")\n",
    "print(reply[\"message\"][\"content\"])"
   ]
  },
  {
   "cell_type": "code",
   "execution_count": null,
   "id": "3227eb8c",
   "metadata": {},
   "outputs": [],
   "source": []
  }
 ],
 "metadata": {
  "kernelspec": {
   "display_name": "base",
   "language": "python",
   "name": "python3"
  },
  "language_info": {
   "codemirror_mode": {
    "name": "ipython",
    "version": 3
   },
   "file_extension": ".py",
   "mimetype": "text/x-python",
   "name": "python",
   "nbconvert_exporter": "python",
   "pygments_lexer": "ipython3",
   "version": "3.8.8"
  }
 },
 "nbformat": 4,
 "nbformat_minor": 5
}
